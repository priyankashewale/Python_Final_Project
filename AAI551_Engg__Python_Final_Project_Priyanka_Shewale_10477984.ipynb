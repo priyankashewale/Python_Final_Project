{
  "nbformat": 4,
  "nbformat_minor": 0,
  "metadata": {
    "colab": {
      "name": "AAI551_Engg._Python_Final_Project_Priyanka_Shewale_10477984.ipynb",
      "provenance": [],
      "collapsed_sections": []
    },
    "kernelspec": {
      "name": "python3",
      "display_name": "Python 3"
    },
    "language_info": {
      "name": "python"
    }
  },
  "cells": [
    {
      "cell_type": "code",
      "execution_count": 57,
      "metadata": {
        "colab": {
          "base_uri": "https://localhost:8080/"
        },
        "id": "JUwmcCRpzmqa",
        "outputId": "2384fd80-370e-487a-cd9d-f29941d853a8"
      },
      "outputs": [
        {
          "output_type": "stream",
          "name": "stdout",
          "text": [
            "Requirement already satisfied: emoji in /usr/local/lib/python3.7/dist-packages (1.7.0)\n"
          ]
        }
      ],
      "source": [
        "pip install emoji     #please install the emoji module"
      ]
    },
    {
      "cell_type": "markdown",
      "source": [
        "Name --> Priyanka Shewale\n",
        ": Course -->  AAI 551 Engineering Programming: Python\n",
        ": Assignment --> Final Project"
      ],
      "metadata": {
        "id": "-PcNL_-tlItd"
      }
    },
    {
      "cell_type": "code",
      "source": [
        "import numpy as np\n",
        "import random                                                 ## POINT 1 ## # Random module imported to generate random number between the range\n",
        "import emoji"
      ],
      "metadata": {
        "id": "yaCzb9brROua"
      },
      "execution_count": 58,
      "outputs": []
    },
    {
      "cell_type": "code",
      "source": [
        "Score_list = []\n",
        "def esc(code):\n",
        "    return f'\\033[{code}m'\n",
        "def attempt_count():                                         ## Function to count number of attempts made to guess the correct number\n",
        "    if len(Score_list) <= 0:\n",
        "        print(\"There is currently no high score, go for it !\")\n",
        "    else:\n",
        "        print(emoji.emojize(\":partying_face: The current high score is {} attempts :smiling_face_with_sunglasses:\".format(min(Score_list))))  # High score value given for every range : High score is cleared off every time a new range is chosen\n",
        "def Guess_game():\n",
        "    print(emoji.emojize(\"Hello Master! :waving_hand: Welcome to the game of \"+ esc('31;1;4') +\"GUESSES!\"+ esc(0)+ \":folded_hands:\")) \n",
        "    player_name = input(\"Please enter your name ?--------------> \")                                                                                          # User Input\n",
        "    wanna_play = input(emoji.emojize(\"Hi,{}  would you like to play the guessing game? :play_button:(Enter Yes/No):---------->  \".format(player_name)))  # User Input\n",
        "    if wanna_play.lower()== \"no\":\n",
        "      print(emoji.emojize(\":smiling_face_with_smiling_eyes: That's cool, have a good one! :folded_hands:\"))\n",
        "    elif wanna_play.lower() == \"yes\":  \n",
        "      attempts = 0\n",
        "      attempt_count()\n",
        "      range = input(\"Please enter the max number that you would like to play the Guess game ,starting from 1 to------------->  \")     ## POINT 2 ##    # Taking Max value from player to fix the range\n",
        "      range = int(range)                                    ## string to int conversion\n",
        "      random_number = int(random.randint(1, range))         ## POINT 1 ## Random module imported to generate random number between the range\n",
        "      #print(random_number)\n",
        "    w_play = wanna_play\n",
        "    while w_play.lower() == \"yes\":                          \n",
        "        try:\n",
        "            guess = input(emoji.emojize(\"I am thinking :thought_balloon: of a number from 1 to {}, Take a guess.------------->\".format(range)))        ## POINT 4 ## # User Input\n",
        "            if int(guess) < 1 or int(guess) > range:\n",
        "                raise ValueError(emoji.emojize(\"Value entered is out of range\"+\" :warning:\"+ \". Please guess within the given range\"))   ## POINT 3 ## # User Input\n",
        "            if int(guess) == random_number:\n",
        "                print(emoji.emojize(\"Nice! You got it! \"\":bullseye: \"))\n",
        "                attempts += 1\n",
        "                Score_list.append(attempts)\n",
        "                print(emoji.emojize(\"It took you {} attempts\"\":clapping_hands: \".format(attempts)))  ## POINT 6 ##  # Displaying the Player score\n",
        "                attempt_count()\n",
        "                play_again = input(emoji.emojize(\"Would you like to play again? :repeat_button:(Enter Yes/No)------------->\"))  # User Input: whether to continue the game or not\n",
        "                if play_again.lower() == \"yes\":\n",
        "                  attempts = 0\n",
        "                  attempt_count()\n",
        "                  same_range = input(emoji.emojize(\"Would you like continue to play again with the same range 1 to {}? (Enter Yes/No). :warning: Note : Selecting a new range will clear off your current high score.--------->\".format(range))) # User Input: whether to continue the game with same range as before  or different\n",
        "                  if same_range.lower() == 'yes' :\n",
        "                    random_number = int(random.randint(1, range))                                   # game continues with same range\n",
        "                    #print(\"same range random no is\",random_number)\n",
        "                    \n",
        "                  elif same_range.lower() == 'no' :                                                 # game continues with different range\n",
        "                    attempts = 0\n",
        "                    Score_list.clear()\n",
        "                    attempt_count()\n",
        "                    range = input(\"Please enter the max number that you would like to play the Guess game ,starting from 1 to------>\") ## POINT 2 ## # Taking Max value from player to fix the range again\n",
        "                    range = int(range)\n",
        "                    random_number = int(random.randint(1, range))\n",
        "                elif play_again.lower() == \"no\":\n",
        "                    print(emoji.emojize(\":smiling_face_with_smiling_eyes: That's cool, have a good one! :folded_hands:\")) # Player exits\n",
        "                    break\n",
        "                    \n",
        "            elif int(guess) > random_number:\n",
        "                print(emoji.emojize(\"Your guess is higher\" + \" :slightly_frowning_face:\"+ \" Please guess again\"))  ## POINT 5 ## #Player enters wrong guess, prompting the player to enter below the wrong guess\n",
        "                attempts += 1\n",
        "            elif int(guess) < random_number:\n",
        "                print(emoji.emojize(\"Your guess is lower\" + \":slightly_frowning_face:\"+ \" Please guess again\"))   ## POINT 5 ## #Player enters wrong guess, prompting the player to enter above the wrong guess\n",
        "                attempts += 1\n",
        "        except ValueError as err:\n",
        "            print(emoji.emojize(\":warning: Oh no!, invalid value :cross_mark:. Try again...\"+\":alien:\"))   ## POINT 3 ## # Invalid input from Player\n",
        "            #print(\"({})\".format(err))\n",
        "    \n",
        "if __name__ == '__main__':   # Run to play the Guess Game\n",
        "    Guess_game()       \n"
      ],
      "metadata": {
        "colab": {
          "base_uri": "https://localhost:8080/"
        },
        "id": "Lgi-7odTzp_r",
        "outputId": "6900d946-84c9-4822-9abd-e36c05c35025"
      },
      "execution_count": 59,
      "outputs": [
        {
          "output_type": "stream",
          "name": "stdout",
          "text": [
            "Hello Master! 👋 Welcome to the game of \u001b[31;1;4mGUESSES!\u001b[0m🙏\n",
            "Please enter your name ?--------------> Priyanka\n",
            "Hi,Priyanka  would you like to play the guessing game? ▶️(Enter Yes/No):---------->  yes\n",
            "There is currently no high score, go for it !\n",
            "Please enter the max number that you would like to play the Guess game ,starting from 1 to------------->  10\n",
            "I am thinking 💭 of a number from 1 to 10, Take a guess.------------->5\n",
            "Your guess is higher 🙁 Please guess again\n",
            "I am thinking 💭 of a number from 1 to 10, Take a guess.------------->4\n",
            "Your guess is higher 🙁 Please guess again\n",
            "I am thinking 💭 of a number from 1 to 10, Take a guess.------------->3\n",
            "Your guess is higher 🙁 Please guess again\n",
            "I am thinking 💭 of a number from 1 to 10, Take a guess.------------->2\n",
            "Nice! You got it! 🎯 \n",
            "It took you 4 attempts👏 \n",
            "🥳 The current high score is 4 attempts 😎\n",
            "Would you like to play again? 🔁(Enter Yes/No)------------->no\n",
            "😊 That's cool, have a good one! 🙏\n"
          ]
        }
      ]
    }
  ]
}